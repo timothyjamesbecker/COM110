{
 "cells": [
  {
   "cell_type": "markdown",
   "metadata": {},
   "source": [
    "### FirstName LastName"
   ]
  },
  {
   "cell_type": "markdown",
   "metadata": {},
   "source": [
    "<img src=\"http://interface-experience.org/site/wp-content/uploads/2015/01/IE-014g-1000x734.jpg\" width=140> <img src=\"http://interface-experience.org/site/wp-content/uploads/2015/01/IE-017f-563x750.jpg\" width=77> <img src=\"http://interface-experience.org/site/wp-content/uploads/2015/01/IE-018a-605x750.jpg\" width=83> <img src=\"http://interface-experience.org/site/wp-content/uploads/2015/01/IE-021c-605x750.jpg\" width=84> <img src=\"http://interface-experience.org/site/wp-content/uploads/2015/01/IE-019-1000x689.jpg\" width=150> <img src=\"http://interface-experience.org/site/wp-content/uploads/2015/01/IE-032-621x750.jpg\" width=87>\n",
    "## COM110 Programming Assignment 5:\n",
    "### Modding Video Games\n",
    "<img src=\"https://api.arcade.academy/en/latest/_images/tetris1.png\" width=200>\n",
    "(c) 2023 Timothy Becker, Department of Computer Science <br><br>\n",
    "<img src=\"https://www.conncoll.edu/media/website-media/visualidentity/images/1Line-LogoSig-Color.jpg\" width=\"200\">"
   ]
  },
  {
   "cell_type": "markdown",
   "metadata": {},
   "source": [
    "### Preliminary\n",
    "Here you will be working with the arcade python video game library that facilitates several common video game workflows. We explored a platformer game in class to work on animation game logic and now will explore a more classic video game: Tetris. Here the game is mostly built for you and you will be modding it: which is changing the rules, and other in game variables so that the difficulty and other properties will be altered."
   ]
  },
  {
   "cell_type": "code",
   "execution_count": 1,
   "metadata": {},
   "outputs": [],
   "source": [
    "#%conda install arcade\n",
    "#%pip install arcade #alterate way to install"
   ]
  },
  {
   "cell_type": "markdown",
   "metadata": {},
   "source": [
    "### [Part 1 20pts] Run the game and play it to get a feel for logic and controls\n",
    "Write down a sketch of how the internal logic would work if you were going to write this from scratch. Then carefully read the code to understand the key parts of the game code and answer the questions by fulfilling each question request by perturbing the original state of the game. Consider this part a series of experiments where you will learn how this game was written by play it and changing variable values to find how your actions effect gameplay."
   ]
  },
  {
   "cell_type": "code",
   "execution_count": null,
   "metadata": {},
   "outputs": [],
   "source": [
    "\"\"\" Tetris clone, with some ideas from silvasur's code:\n",
    "https://gist.github.com/silvasur/565419/d9de6a84e7da000797ac681976442073045c74a4\n",
    "this was simplified by TJB 2023 for COM110 \"\"\"\n",
    "\n",
    "import arcade\n",
    "import random\n",
    "import numpy as np\n",
    "import PIL\n",
    "\n",
    "# Set how many rows and columns we will have\n",
    "ROW_COUNT = 24\n",
    "COLUMN_COUNT = 12\n",
    "\n",
    "# This sets the WIDTH and HEIGHT of each grid location\n",
    "WIDTH = 30\n",
    "HEIGHT = 30\n",
    "\n",
    "# This sets the margin between each cell\n",
    "# and on the edges of the screen.\n",
    "MARGIN = 5\n",
    "\n",
    "# Do the math to figure out our screen dimensions\n",
    "SCREEN_WIDTH = (WIDTH + MARGIN) * COLUMN_COUNT + MARGIN\n",
    "SCREEN_HEIGHT = (HEIGHT + MARGIN) * ROW_COUNT + MARGIN\n",
    "SCREEN_TITLE = \"Tetris\"\n",
    "\n",
    "colors = [\n",
    "    (0,   0,   0, 255),\n",
    "    (255, 0,   0, 255),\n",
    "    (0,   150, 0, 255),\n",
    "    (0,   0,   255, 255),\n",
    "    (255, 120, 0, 255),\n",
    "    (255, 255, 0, 255),\n",
    "    (180, 0,   255, 255),\n",
    "    (0,   220, 220, 255)\n",
    "]\n",
    "\n",
    "# Define the shapes of the single parts\n",
    "tetris_shapes = [\n",
    "    [[1, 1, 1],\n",
    "     [0, 1, 0]],\n",
    "\n",
    "    [[0, 2, 2],\n",
    "     [2, 2, 0]],\n",
    "\n",
    "    [[3, 3, 0],\n",
    "     [0, 3, 3]],\n",
    "\n",
    "    [[4, 0, 0],\n",
    "     [4, 4, 4]],\n",
    "\n",
    "    [[0, 0, 5],\n",
    "     [5, 5, 5]],\n",
    "\n",
    "    [[6, 6, 6, 6]],\n",
    "\n",
    "    [[7, 7],\n",
    "     [7, 7]]\n",
    "]\n",
    "tetris_shapes = [np.asarray(shape) for shape in tetris_shapes]\n",
    "\n",
    "def create_textures():\n",
    "    \"\"\" Create a list of images for sprites based on the global colors. \"\"\"\n",
    "    new_textures = []\n",
    "    for color in colors:\n",
    "        image = PIL.Image.new('RGBA', (WIDTH, HEIGHT), color)\n",
    "        new_textures.append(arcade.Texture(str(color), image=image))\n",
    "    return new_textures\n",
    "\n",
    "texture_list = create_textures()\n",
    "\n",
    "def rotate_counterclockwise(shape):\n",
    "    \"\"\" Rotates a matrix couterclockwise \"\"\"\n",
    "    return shape[::-1].T\n",
    "\n",
    "def check_collision(board, shape, offset):\n",
    "    \"\"\"See if the matrix stored in the shape will intersect anything\n",
    "    on the board based on the offset. Offset is an (x, y) coordinate.\"\"\"\n",
    "    off_x, off_y = offset\n",
    "    for i in range(len(shape)):\n",
    "        for j in range(len(shape[i])):\n",
    "            if shape[i][j]>0 and board[i+off_y][j+off_x]:\n",
    "                return True\n",
    "    return False\n",
    "\n",
    "def join_matrixes(matrix_1, matrix_2, matrix_2_offset):\n",
    "    \"\"\" Copy matrix 2 onto matrix 1 based on the passed in x, y offset coordinate \"\"\"\n",
    "    off_x, off_y = matrix_2_offset\n",
    "    for i in range(len(matrix_2)):\n",
    "        for j in range(len(matrix_2[i])):\n",
    "            matrix_1[i+off_y-1][j+off_x] += matrix_2[i][j]\n",
    "    return matrix_1\n",
    "\n",
    "\n",
    "def new_board():\n",
    "    \"\"\" Create a grid of 0's. Add 1's to the bottom for easier collision detection. \"\"\"\n",
    "    board = [[0 for _x in range(COLUMN_COUNT)] for _y in range(ROW_COUNT)]\n",
    "    board += [[1 for _x in range(COLUMN_COUNT)]]\n",
    "    board = np.asarray(board)\n",
    "    return board\n",
    "\n",
    "class MyGame(arcade.Window):\n",
    "    def __init__(self, width, height, title):\n",
    "        super().__init__(width, height, title)\n",
    "        arcade.set_background_color(arcade.color.WHITE)\n",
    "\n",
    "        self.board = None\n",
    "        self.frame_count = 0\n",
    "        self.game_over = False\n",
    "        self.paused = False\n",
    "        self.board_sprite_list = None\n",
    "\n",
    "        self.stone = None\n",
    "        self.stone_x = 0\n",
    "        self.stone_y = 0\n",
    "\n",
    "    def new_stone(self):\n",
    "        \"\"\"Randomly grab a new stone and set the stone location to the top.\n",
    "        If we immediately collide, then game-over.\"\"\"\n",
    "        self.stone = random.choice(tetris_shapes)\n",
    "        self.stone_x = int(COLUMN_COUNT / 2 - len(self.stone[0]) / 2)\n",
    "        self.stone_y = 0\n",
    "\n",
    "        if check_collision(self.board, self.stone, (self.stone_x, self.stone_y)):\n",
    "            self.game_over = True\n",
    "\n",
    "    def setup(self):\n",
    "        self.board = new_board()\n",
    "\n",
    "        self.board_sprite_list = arcade.SpriteList()\n",
    "        for row in range(len(self.board)):\n",
    "            for column in range(len(self.board[0])):\n",
    "                sprite = arcade.Sprite()\n",
    "                for texture in texture_list:\n",
    "                    sprite.append_texture(texture)\n",
    "                sprite.set_texture(0)\n",
    "                sprite.center_x = (MARGIN + WIDTH) * column + MARGIN + WIDTH // 2\n",
    "                sprite.center_y = SCREEN_HEIGHT - (MARGIN + HEIGHT) * row + MARGIN + HEIGHT // 2\n",
    "\n",
    "                self.board_sprite_list.append(sprite)\n",
    "\n",
    "        self.new_stone()\n",
    "        self.update_board()\n",
    "\n",
    "    def drop(self):\n",
    "        \"\"\"Drop the stone down one place. Check for collision. If collided, then\n",
    "           join matrixes, Check for rows we can remove, Update sprite list with stones, Create a new stone\"\"\"\n",
    "        if not self.game_over and not self.paused:\n",
    "            self.stone_y += 1\n",
    "            if check_collision(self.board, self.stone, (self.stone_x, self.stone_y)):\n",
    "                self.board = join_matrixes(self.board, self.stone, (self.stone_x, self.stone_y))\n",
    "                for i in range(len(self.board)-1):     #check every row except the bottom\n",
    "                    if np.prod(self.board[i,:]) > 0:   #any 0 will make the product zero\n",
    "                        self.board[0:i+1,:] = np.roll(self.board[0:i+1,:],axis=0,shift=1) #shift all rows down by one\n",
    "                        self.board[0,:] = 0                                               #clear the top row that was filled\n",
    "                self.update_board()\n",
    "                self.new_stone()\n",
    "\n",
    "    def rotate_stone(self):\n",
    "        \"\"\" Rotate the stone, check collision. \"\"\"\n",
    "        if not self.game_over and not self.paused:\n",
    "            new_stone = rotate_counterclockwise(self.stone)\n",
    "            if self.stone_x + len(new_stone[0]) >= COLUMN_COUNT:\n",
    "                self.stone_x = COLUMN_COUNT - len(new_stone[0])\n",
    "            if not check_collision(self.board, new_stone, (self.stone_x, self.stone_y)):\n",
    "                self.stone = new_stone\n",
    "\n",
    "    def on_update(self, dt):\n",
    "        \"\"\" Update, drop stone if warrented \"\"\"\n",
    "        self.frame_count += 1\n",
    "        if self.frame_count % 60 == 0:\n",
    "            self.drop()\n",
    "\n",
    "    def move(self, delta_x):\n",
    "        \"\"\" Move the stone back and forth based on delta x. \"\"\"\n",
    "        if not self.game_over and not self.paused:\n",
    "            new_x = self.stone_x + delta_x\n",
    "            if new_x < 0:\n",
    "                new_x = 0\n",
    "            if new_x > COLUMN_COUNT - len(self.stone[0]):\n",
    "                new_x = COLUMN_COUNT - len(self.stone[0])\n",
    "            if not check_collision(self.board, self.stone, (new_x, self.stone_y)):\n",
    "                self.stone_x = new_x\n",
    "\n",
    "    def on_key_press(self, key, modifiers):\n",
    "        if key == arcade.key.LEFT:  self.move(-1)\n",
    "        if key == arcade.key.RIGHT: self.move(1)\n",
    "        if key == arcade.key.UP:    self.rotate_stone()\n",
    "        if key == arcade.key.DOWN:  self.drop()\n",
    "\n",
    "    # noinspection PyMethodMayBeStatic\n",
    "    def draw_grid(self, grid, offset_x, offset_y):\n",
    "        \"\"\"Draw the grid. Used to draw the falling stones. The board is drawn\n",
    "        by the sprite list.\"\"\"\n",
    "        for row in range(len(grid)):\n",
    "            for column in range(len(grid[0])):\n",
    "                if grid[row][column]:\n",
    "                    color = colors[grid[row][column]]\n",
    "                    x = (MARGIN + WIDTH) * (column + offset_x) + MARGIN + WIDTH // 2\n",
    "                    y = SCREEN_HEIGHT - (MARGIN + HEIGHT) * (row + offset_y) + MARGIN + HEIGHT // 2\n",
    "                    arcade.draw_rectangle_filled(x, y, WIDTH, HEIGHT, color)\n",
    "\n",
    "    def update_board(self):\n",
    "        \"\"\"Update the sprite list to reflect the contents of the 2d grid\"\"\"\n",
    "        for row in range(len(self.board)):\n",
    "            for column in range(len(self.board[0])):\n",
    "                v = self.board[row][column]\n",
    "                i = row * COLUMN_COUNT + column\n",
    "                self.board_sprite_list[i].set_texture(v)\n",
    "\n",
    "    def on_draw(self):\n",
    "        \"\"\" Render the screen. \"\"\"\n",
    "        self.clear()\n",
    "        self.board_sprite_list.draw()\n",
    "        self.draw_grid(self.stone, self.stone_x, self.stone_y)\n",
    "\n",
    "def main():\n",
    "    my_game = MyGame(SCREEN_WIDTH, SCREEN_HEIGHT, SCREEN_TITLE)\n",
    "    my_game.setup()\n",
    "    arcade.run()\n",
    "\n",
    "if __name__ == \"__main__\":\n",
    "    main()"
   ]
  },
  {
   "cell_type": "markdown",
   "metadata": {},
   "source": [
    "### [Exercise 1a] Modify the on_update method\n",
    "Change the value that mods the frame counter from 60 to 10 and then to 120. Then make a new variable in caps at the very top near ROW_COUNT = ... call FRAME_DIV and set it to a good starting level value based on your play experiments. Detail some of your experiments below (a few sentences about what you found out)"
   ]
  },
  {
   "cell_type": "markdown",
   "metadata": {},
   "source": [
    "your markdown answer here for [Exercise 1a]"
   ]
  },
  {
   "cell_type": "markdown",
   "metadata": {},
   "source": [
    "### [Exercise 1b] Modify the ROW_COUNT = 24 and COLUMN_COUNT = 12\n",
    "Now change the number of rows and columns in the game and detail in your words the effects of large versus smaller rows and columns. What is the minim size to make this game playable?"
   ]
  },
  {
   "cell_type": "markdown",
   "metadata": {},
   "source": [
    "your markdown answer here for [Exercise 1b]"
   ]
  },
  {
   "cell_type": "markdown",
   "metadata": {},
   "source": [
    "### [Exercise 1c] Modify the stones\n",
    "The original Tetris shapes are in a list of arrays called tetris_shapes. The numbers signify the color to use (in the textures). First change the base shapes by making sure your shapes are square (equal number of columns in every row) then you simply put a number where the shape will contain material and leave a 0 where the shape will not contain material. Can you make some shapes that makes gameplay very easy? What kind of shapes are these? On the other hand can you make shapes that making the game so challenging you may clear any rows?"
   ]
  },
  {
   "cell_type": "markdown",
   "metadata": {},
   "source": [
    "your markdown answer here for [Exercise 1c]"
   ]
  },
  {
   "cell_type": "markdown",
   "metadata": {},
   "source": [
    "### [Exercise 1d] Modify the number of stones\n",
    "Now you will add two more stones to either the original tetris values or your modified values in [Exercise 1c]. You will need to make sure you construct a color for each of these new stones by adding a RGBA (Red, Green, Blue, Alpha) to the variable called colors and then will need to make the stones have 8s and 9s like:\n",
    "[[8,8,8],[8,8,0],[8,8,8]], [[9],[9],[9]]"
   ]
  },
  {
   "cell_type": "markdown",
   "metadata": {},
   "source": [
    "your markdown here for [exercise 1d]"
   ]
  },
  {
   "cell_type": "markdown",
   "metadata": {},
   "source": [
    "### [Part 2 20pts] Change the rules to make the game easier\n",
    "Now that you have a good feel for how to change the difficulty level by modifications to the animation speed, dimensions of the board, and by constructing new stone shapes you will experiment with modifications to the game rules. Normally you need clear a row only by filling it fully. Experiment with clearing rows that have up to one empty space and then clearing rows that have up to two empty spaces. You can copy your code modification in the cell below. Some hints will follow to make this more approachable if you haven't spent enough time in Part 1.\n",
    "\n",
    "Hint1: What part of the code controls the row clearing rule? Look for the method that has this comment: \"...Check for rows we can remove...\"\n",
    "Hint2: Now that you know what method clears a row, modify its Boolean condition so that instead of only clearing full rows, it will trigger wen the rows have up to one empty space (this means they will also clear the normal full rows)\n"
   ]
  },
  {
   "cell_type": "code",
   "execution_count": 1,
   "metadata": {},
   "outputs": [],
   "source": [
    "#rewrite the method that controls the row clearing here with your modifications so that it will clear rows with up to one empty space"
   ]
  },
  {
   "cell_type": "markdown",
   "metadata": {},
   "source": [
    "### [Part 3 20pts]* Change the rules to make the game harder\n",
    "If you located the row clearing function in [Part 2] revisit that game logic and make modifications so that only two consecutive rows can be cleared. You may need to think about this for some time. What would happen is that even if you had one perfect row, you would need a second one to be perfect to also get cleared."
   ]
  },
  {
   "cell_type": "code",
   "execution_count": null,
   "metadata": {},
   "outputs": [],
   "source": [
    "#rewrite the method that controls the row clearing here with your modifications that require two full consectutive rows before clearing"
   ]
  },
  {
   "cell_type": "markdown",
   "metadata": {},
   "source": [
    "### [Part 4 20pts]* Now combine [Part 2] and [Part 3]\n",
    "Once you have that working, you can add your modification from Part 2 to combine them: You need to have at least two consecutive rows that have at most one empty space each to clear."
   ]
  },
  {
   "cell_type": "code",
   "execution_count": null,
   "metadata": {},
   "outputs": [],
   "source": [
    "#rewrite the method that controls the row clearing here to have the comination of hard and easy row clearing: \n",
    "#two consecutive rows that each are mostly full (each one can have at most one empty space)"
   ]
  },
  {
   "cell_type": "markdown",
   "metadata": {},
   "source": [
    "### [Part 5 20pts]* Difficultly lies with certain shapes\n",
    "Do the default shapes pose the same difficulty? Currently the stones are selected with equal chance in the new_stone method by this line:"
   ]
  },
  {
   "cell_type": "code",
   "execution_count": null,
   "metadata": {},
   "outputs": [],
   "source": [
    "self.stone = random.choice(tetris_shapes)"
   ]
  },
  {
   "cell_type": "markdown",
   "metadata": {},
   "source": [
    "There is a very easy to use numpy version of random choice that will allow you as the programmer to set the chance of each stone. Think about this for a minute in terms of game difficulty... if certain stone shapes are known to be more difficult and you as the programmer can change the chances of these, then you can change the difficulty of the game whenever you want!"
   ]
  },
  {
   "cell_type": "code",
   "execution_count": null,
   "metadata": {},
   "outputs": [],
   "source": [
    "np.random.choice([1,2,3],1,p=[0.1,0.8,0.1]) #1 and 3 have a 1/10 chance each, while 2 has a 4/5 chance"
   ]
  },
  {
   "cell_type": "markdown",
   "metadata": {},
   "source": [
    "Modify the stone shapes so that easier shapes appear as game proceeds closer to a game over. Think about this for a little bit... how can you figure how the how close the game is to being over?\n",
    "\n",
    "Hint1: A simple way to calculate how close to failure is to compute the number of filled positions in the board (proportion of filled). You could add a method to your class that could calculate how full the board is (0.0 to 1 value)\n",
    "\n",
    "Hint2: As the proportion of filled increases, change the value of the p in np.random.choice so that you provide easier shapes."
   ]
  },
  {
   "cell_type": "code",
   "execution_count": null,
   "metadata": {},
   "outputs": [],
   "source": [
    "#write a proportion_filled method here that computes the number of filled positions"
   ]
  },
  {
   "cell_type": "code",
   "execution_count": null,
   "metadata": {},
   "outputs": [],
   "source": [
    "#write your modifications to the new_stone method here that makes the stone shapes easier as the palyer gets closer to failure"
   ]
  }
 ],
 "metadata": {
  "kernelspec": {
   "display_name": "Python 3 (ipykernel)",
   "language": "python",
   "name": "python3"
  },
  "language_info": {
   "codemirror_mode": {
    "name": "ipython",
    "version": 3
   },
   "file_extension": ".py",
   "mimetype": "text/x-python",
   "name": "python",
   "nbconvert_exporter": "python",
   "pygments_lexer": "ipython3",
   "version": "3.10.13"
  }
 },
 "nbformat": 4,
 "nbformat_minor": 4
}
